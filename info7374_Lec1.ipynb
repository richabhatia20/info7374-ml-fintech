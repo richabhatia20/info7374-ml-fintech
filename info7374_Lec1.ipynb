{
 "cells": [
  {
   "cell_type": "code",
   "execution_count": 66,
   "metadata": {},
   "outputs": [
    {
     "name": "stdout",
     "output_type": "stream",
     "text": [
      "Requirement already satisfied: pandas in ./anaconda3/lib/python3.6/site-packages\n",
      "Requirement already satisfied: python-dateutil>=2 in ./anaconda3/lib/python3.6/site-packages (from pandas)\n",
      "Requirement already satisfied: pytz>=2011k in ./anaconda3/lib/python3.6/site-packages (from pandas)\n",
      "Requirement already satisfied: numpy>=1.9.0 in ./anaconda3/lib/python3.6/site-packages (from pandas)\n",
      "Requirement already satisfied: six>=1.5 in ./anaconda3/lib/python3.6/site-packages (from python-dateutil>=2->pandas)\n",
      "\u001b[33mYou are using pip version 9.0.1, however version 10.0.1 is available.\n",
      "You should consider upgrading via the 'pip install --upgrade pip' command.\u001b[0m\n",
      "Requirement already satisfied: numpy in ./anaconda3/lib/python3.6/site-packages\n",
      "\u001b[33mYou are using pip version 9.0.1, however version 10.0.1 is available.\n",
      "You should consider upgrading via the 'pip install --upgrade pip' command.\u001b[0m\n",
      "Requirement already satisfied: matplotlib in ./anaconda3/lib/python3.6/site-packages\n",
      "Requirement already satisfied: numpy>=1.7.1 in ./anaconda3/lib/python3.6/site-packages (from matplotlib)\n",
      "Requirement already satisfied: six>=1.10 in ./anaconda3/lib/python3.6/site-packages (from matplotlib)\n",
      "Requirement already satisfied: python-dateutil>=2.1 in ./anaconda3/lib/python3.6/site-packages (from matplotlib)\n",
      "Requirement already satisfied: pytz in ./anaconda3/lib/python3.6/site-packages (from matplotlib)\n",
      "Requirement already satisfied: cycler>=0.10 in ./anaconda3/lib/python3.6/site-packages (from matplotlib)\n",
      "Requirement already satisfied: pyparsing!=2.0.4,!=2.1.2,!=2.1.6,>=2.0.1 in ./anaconda3/lib/python3.6/site-packages (from matplotlib)\n",
      "\u001b[33mYou are using pip version 9.0.1, however version 10.0.1 is available.\n",
      "You should consider upgrading via the 'pip install --upgrade pip' command.\u001b[0m\n",
      "Requirement already satisfied: seaborn in ./anaconda3/lib/python3.6/site-packages\n",
      "Requirement already satisfied: numpy in ./anaconda3/lib/python3.6/site-packages (from seaborn)\n",
      "Requirement already satisfied: scipy in ./anaconda3/lib/python3.6/site-packages (from seaborn)\n",
      "Requirement already satisfied: matplotlib in ./anaconda3/lib/python3.6/site-packages (from seaborn)\n",
      "Requirement already satisfied: pandas in ./anaconda3/lib/python3.6/site-packages (from seaborn)\n",
      "Requirement already satisfied: six>=1.10 in ./anaconda3/lib/python3.6/site-packages (from matplotlib->seaborn)\n",
      "Requirement already satisfied: python-dateutil>=2.1 in ./anaconda3/lib/python3.6/site-packages (from matplotlib->seaborn)\n",
      "Requirement already satisfied: pytz in ./anaconda3/lib/python3.6/site-packages (from matplotlib->seaborn)\n",
      "Requirement already satisfied: cycler>=0.10 in ./anaconda3/lib/python3.6/site-packages (from matplotlib->seaborn)\n",
      "Requirement already satisfied: pyparsing!=2.0.4,!=2.1.2,!=2.1.6,>=2.0.1 in ./anaconda3/lib/python3.6/site-packages (from matplotlib->seaborn)\n",
      "\u001b[33mYou are using pip version 9.0.1, however version 10.0.1 is available.\n",
      "You should consider upgrading via the 'pip install --upgrade pip' command.\u001b[0m\n",
      "Requirement already satisfied: plotly in ./anaconda3/lib/python3.6/site-packages\n",
      "Requirement already satisfied: six in ./anaconda3/lib/python3.6/site-packages (from plotly)\n",
      "Requirement already satisfied: requests in ./anaconda3/lib/python3.6/site-packages (from plotly)\n",
      "Requirement already satisfied: nbformat>=4.2 in ./anaconda3/lib/python3.6/site-packages (from plotly)\n",
      "Requirement already satisfied: pytz in ./anaconda3/lib/python3.6/site-packages (from plotly)\n",
      "Requirement already satisfied: decorator>=4.0.6 in ./anaconda3/lib/python3.6/site-packages (from plotly)\n",
      "Requirement already satisfied: chardet<3.1.0,>=3.0.2 in ./anaconda3/lib/python3.6/site-packages (from requests->plotly)\n",
      "Requirement already satisfied: idna<2.7,>=2.5 in ./anaconda3/lib/python3.6/site-packages (from requests->plotly)\n",
      "Requirement already satisfied: urllib3<1.23,>=1.21.1 in ./anaconda3/lib/python3.6/site-packages (from requests->plotly)\n",
      "Requirement already satisfied: certifi>=2017.4.17 in ./anaconda3/lib/python3.6/site-packages (from requests->plotly)\n",
      "Requirement already satisfied: ipython_genutils in ./anaconda3/lib/python3.6/site-packages (from nbformat>=4.2->plotly)\n",
      "Requirement already satisfied: traitlets>=4.1 in ./anaconda3/lib/python3.6/site-packages (from nbformat>=4.2->plotly)\n",
      "Requirement already satisfied: jsonschema!=2.5.0,>=2.4 in ./anaconda3/lib/python3.6/site-packages (from nbformat>=4.2->plotly)\n",
      "Requirement already satisfied: jupyter_core in ./anaconda3/lib/python3.6/site-packages (from nbformat>=4.2->plotly)\n",
      "\u001b[33mYou are using pip version 9.0.1, however version 10.0.1 is available.\n",
      "You should consider upgrading via the 'pip install --upgrade pip' command.\u001b[0m\n"
     ]
    }
   ],
   "source": [
    "!pip install pandas\n",
    "!pip install numpy\n",
    "!pip install matplotlib\n",
    "!pip install seaborn\n",
    "!pip install plotly\n",
    "import pandas as pd\n",
    "import numpy as np\n",
    "import matplotlib.pyplot as plt\n",
    "%matplotlib inline\n",
    "import seaborn as sns\n",
    "import plotly as ptl\n",
    "import plotly.plotly as py\n",
    "from plotly.graph_objs import *\n",
    "import plotly.graph_objs as go"
   ]
  },
  {
   "cell_type": "code",
   "execution_count": 67,
   "metadata": {},
   "outputs": [],
   "source": [
    "df=pd.read_excel('AMZN.xlsx')"
   ]
  },
  {
   "cell_type": "code",
   "execution_count": 68,
   "metadata": {},
   "outputs": [
    {
     "data": {
      "text/html": [
       "<div>\n",
       "<style scoped>\n",
       "    .dataframe tbody tr th:only-of-type {\n",
       "        vertical-align: middle;\n",
       "    }\n",
       "\n",
       "    .dataframe tbody tr th {\n",
       "        vertical-align: top;\n",
       "    }\n",
       "\n",
       "    .dataframe thead th {\n",
       "        text-align: right;\n",
       "    }\n",
       "</style>\n",
       "<table border=\"1\" class=\"dataframe\">\n",
       "  <thead>\n",
       "    <tr style=\"text-align: right;\">\n",
       "      <th></th>\n",
       "      <th>date</th>\n",
       "      <th>open</th>\n",
       "      <th>close</th>\n",
       "      <th>low</th>\n",
       "      <th>high</th>\n",
       "      <th>volume</th>\n",
       "      <th>Unnamed: 6</th>\n",
       "      <th>Unnamed: 7</th>\n",
       "      <th>Unnamed: 8</th>\n",
       "    </tr>\n",
       "  </thead>\n",
       "  <tbody>\n",
       "    <tr>\n",
       "      <th>0</th>\n",
       "      <td>2016-01-04</td>\n",
       "      <td>672.32</td>\n",
       "      <td>672.32</td>\n",
       "      <td>627.51</td>\n",
       "      <td>639.10</td>\n",
       "      <td>69804</td>\n",
       "      <td>46122</td>\n",
       "      <td>639.316</td>\n",
       "      <td>0</td>\n",
       "    </tr>\n",
       "    <tr>\n",
       "      <th>1</th>\n",
       "      <td>2016-01-05</td>\n",
       "      <td>638.05</td>\n",
       "      <td>646.91</td>\n",
       "      <td>627.65</td>\n",
       "      <td>634.25</td>\n",
       "      <td>44335</td>\n",
       "      <td>28307</td>\n",
       "      <td>634.859</td>\n",
       "      <td>0</td>\n",
       "    </tr>\n",
       "    <tr>\n",
       "      <th>2</th>\n",
       "      <td>2016-01-06</td>\n",
       "      <td>623.77</td>\n",
       "      <td>639.79</td>\n",
       "      <td>618.64</td>\n",
       "      <td>635.20</td>\n",
       "      <td>40167</td>\n",
       "      <td>26239</td>\n",
       "      <td>631.691</td>\n",
       "      <td>0</td>\n",
       "    </tr>\n",
       "    <tr>\n",
       "      <th>3</th>\n",
       "      <td>2016-01-07</td>\n",
       "      <td>620.55</td>\n",
       "      <td>630.00</td>\n",
       "      <td>605.21</td>\n",
       "      <td>606.00</td>\n",
       "      <td>54784</td>\n",
       "      <td>35669</td>\n",
       "      <td>616.488</td>\n",
       "      <td>0</td>\n",
       "    </tr>\n",
       "    <tr>\n",
       "      <th>4</th>\n",
       "      <td>2016-01-08</td>\n",
       "      <td>617.05</td>\n",
       "      <td>624.14</td>\n",
       "      <td>606.00</td>\n",
       "      <td>608.36</td>\n",
       "      <td>42130</td>\n",
       "      <td>27620</td>\n",
       "      <td>614.969</td>\n",
       "      <td>0</td>\n",
       "    </tr>\n",
       "  </tbody>\n",
       "</table>\n",
       "</div>"
      ],
      "text/plain": [
       "        date    open   close     low    high  volume  Unnamed: 6  Unnamed: 7  \\\n",
       "0 2016-01-04  672.32  672.32  627.51  639.10   69804       46122     639.316   \n",
       "1 2016-01-05  638.05  646.91  627.65  634.25   44335       28307     634.859   \n",
       "2 2016-01-06  623.77  639.79  618.64  635.20   40167       26239     631.691   \n",
       "3 2016-01-07  620.55  630.00  605.21  606.00   54784       35669     616.488   \n",
       "4 2016-01-08  617.05  624.14  606.00  608.36   42130       27620     614.969   \n",
       "\n",
       "   Unnamed: 8  \n",
       "0           0  \n",
       "1           0  \n",
       "2           0  \n",
       "3           0  \n",
       "4           0  "
      ]
     },
     "execution_count": 68,
     "metadata": {},
     "output_type": "execute_result"
    }
   ],
   "source": [
    "df.head()\n"
   ]
  },
  {
   "cell_type": "code",
   "execution_count": 69,
   "metadata": {},
   "outputs": [],
   "source": [
    "df['Price'] = (df['open']+df['close'])/2"
   ]
  },
  {
   "cell_type": "code",
   "execution_count": 70,
   "metadata": {},
   "outputs": [
    {
     "data": {
      "text/html": [
       "<div>\n",
       "<style scoped>\n",
       "    .dataframe tbody tr th:only-of-type {\n",
       "        vertical-align: middle;\n",
       "    }\n",
       "\n",
       "    .dataframe tbody tr th {\n",
       "        vertical-align: top;\n",
       "    }\n",
       "\n",
       "    .dataframe thead th {\n",
       "        text-align: right;\n",
       "    }\n",
       "</style>\n",
       "<table border=\"1\" class=\"dataframe\">\n",
       "  <thead>\n",
       "    <tr style=\"text-align: right;\">\n",
       "      <th></th>\n",
       "      <th>date</th>\n",
       "      <th>open</th>\n",
       "      <th>close</th>\n",
       "      <th>low</th>\n",
       "      <th>high</th>\n",
       "      <th>volume</th>\n",
       "      <th>Unnamed: 6</th>\n",
       "      <th>Unnamed: 7</th>\n",
       "      <th>Unnamed: 8</th>\n",
       "      <th>Price</th>\n",
       "    </tr>\n",
       "  </thead>\n",
       "  <tbody>\n",
       "    <tr>\n",
       "      <th>0</th>\n",
       "      <td>2016-01-04</td>\n",
       "      <td>672.32</td>\n",
       "      <td>672.32</td>\n",
       "      <td>627.51</td>\n",
       "      <td>639.10</td>\n",
       "      <td>69804</td>\n",
       "      <td>46122</td>\n",
       "      <td>639.316</td>\n",
       "      <td>0</td>\n",
       "      <td>672.320</td>\n",
       "    </tr>\n",
       "    <tr>\n",
       "      <th>1</th>\n",
       "      <td>2016-01-05</td>\n",
       "      <td>638.05</td>\n",
       "      <td>646.91</td>\n",
       "      <td>627.65</td>\n",
       "      <td>634.25</td>\n",
       "      <td>44335</td>\n",
       "      <td>28307</td>\n",
       "      <td>634.859</td>\n",
       "      <td>0</td>\n",
       "      <td>642.480</td>\n",
       "    </tr>\n",
       "    <tr>\n",
       "      <th>2</th>\n",
       "      <td>2016-01-06</td>\n",
       "      <td>623.77</td>\n",
       "      <td>639.79</td>\n",
       "      <td>618.64</td>\n",
       "      <td>635.20</td>\n",
       "      <td>40167</td>\n",
       "      <td>26239</td>\n",
       "      <td>631.691</td>\n",
       "      <td>0</td>\n",
       "      <td>631.780</td>\n",
       "    </tr>\n",
       "    <tr>\n",
       "      <th>3</th>\n",
       "      <td>2016-01-07</td>\n",
       "      <td>620.55</td>\n",
       "      <td>630.00</td>\n",
       "      <td>605.21</td>\n",
       "      <td>606.00</td>\n",
       "      <td>54784</td>\n",
       "      <td>35669</td>\n",
       "      <td>616.488</td>\n",
       "      <td>0</td>\n",
       "      <td>625.275</td>\n",
       "    </tr>\n",
       "    <tr>\n",
       "      <th>4</th>\n",
       "      <td>2016-01-08</td>\n",
       "      <td>617.05</td>\n",
       "      <td>624.14</td>\n",
       "      <td>606.00</td>\n",
       "      <td>608.36</td>\n",
       "      <td>42130</td>\n",
       "      <td>27620</td>\n",
       "      <td>614.969</td>\n",
       "      <td>0</td>\n",
       "      <td>620.595</td>\n",
       "    </tr>\n",
       "  </tbody>\n",
       "</table>\n",
       "</div>"
      ],
      "text/plain": [
       "        date    open   close     low    high  volume  Unnamed: 6  Unnamed: 7  \\\n",
       "0 2016-01-04  672.32  672.32  627.51  639.10   69804       46122     639.316   \n",
       "1 2016-01-05  638.05  646.91  627.65  634.25   44335       28307     634.859   \n",
       "2 2016-01-06  623.77  639.79  618.64  635.20   40167       26239     631.691   \n",
       "3 2016-01-07  620.55  630.00  605.21  606.00   54784       35669     616.488   \n",
       "4 2016-01-08  617.05  624.14  606.00  608.36   42130       27620     614.969   \n",
       "\n",
       "   Unnamed: 8    Price  \n",
       "0           0  672.320  \n",
       "1           0  642.480  \n",
       "2           0  631.780  \n",
       "3           0  625.275  \n",
       "4           0  620.595  "
      ]
     },
     "execution_count": 70,
     "metadata": {},
     "output_type": "execute_result"
    }
   ],
   "source": [
    "df.head()"
   ]
  },
  {
   "cell_type": "code",
   "execution_count": 71,
   "metadata": {},
   "outputs": [
    {
     "name": "stdout",
     "output_type": "stream",
     "text": [
      "High five! You successfully sent some data to your account on plotly. View your plot in your browser at https://plot.ly/~rbh7/0 or inside your plot.ly account where it is named 'jupyter-basic_bar'\n"
     ]
    },
    {
     "data": {
      "text/html": [
       "<iframe id=\"igraph\" scrolling=\"no\" style=\"border:none;\" seamless=\"seamless\" src=\"https://plot.ly/~rbh7/0.embed\" height=\"525px\" width=\"100%\"></iframe>"
      ],
      "text/plain": [
       "<plotly.tools.PlotlyDisplay object>"
      ]
     },
     "execution_count": 71,
     "metadata": {},
     "output_type": "execute_result"
    }
   ],
   "source": [
    "ptl.tools.set_credentials_file(username='rbh7', api_key='idrYJvKKdnWlmxsqnPcT')\n",
    "#df['date'] = pd.to_datetime(df['date'], format= \"%Y-%b-%dd %H:%M:%S\")\n",
    "data = [Bar(x=df.date,\n",
    "            y=df.Price)]\n",
    "\n",
    "py.iplot(data, filename='jupyter-basic_bar')"
   ]
  },
  {
   "cell_type": "code",
   "execution_count": 73,
   "metadata": {},
   "outputs": [
    {
     "data": {
      "text/html": [
       "<iframe id=\"igraph\" scrolling=\"no\" style=\"border:none;\" seamless=\"seamless\" src=\"https://plot.ly/~rbh7/4.embed\" height=\"525px\" width=\"100%\"></iframe>"
      ],
      "text/plain": [
       "<plotly.tools.PlotlyDisplay object>"
      ]
     },
     "execution_count": 73,
     "metadata": {},
     "output_type": "execute_result"
    }
   ],
   "source": [
    "\n",
    "# Create a trace\n",
    "trace = go.Scatter(\n",
    "    x = df.date,\n",
    "    y = df.Price\n",
    ")\n",
    "\n",
    "data = [trace]\n",
    "\n",
    "py.iplot(data, filename='date-price')"
   ]
  },
  {
   "cell_type": "code",
   "execution_count": 74,
   "metadata": {},
   "outputs": [
    {
     "data": {
      "text/html": [
       "<iframe id=\"igraph\" scrolling=\"no\" style=\"border:none;\" seamless=\"seamless\" src=\"https://plot.ly/~rbh7/6.embed\" height=\"525px\" width=\"100%\"></iframe>"
      ],
      "text/plain": [
       "<plotly.tools.PlotlyDisplay object>"
      ]
     },
     "execution_count": 74,
     "metadata": {},
     "output_type": "execute_result"
    }
   ],
   "source": [
    "\n",
    "# Create a trace\n",
    "trace2 = go.Scatter(\n",
    "    x = df.date,\n",
    "    y = df.volume\n",
    ")\n",
    "\n",
    "data = [trace2]\n",
    "\n",
    "py.iplot(data, filename='date-volume')"
   ]
  },
  {
   "cell_type": "code",
   "execution_count": null,
   "metadata": {},
   "outputs": [],
   "source": []
  }
 ],
 "metadata": {
  "kernelspec": {
   "display_name": "Python 3",
   "language": "python",
   "name": "python3"
  },
  "language_info": {
   "codemirror_mode": {
    "name": "ipython",
    "version": 3
   },
   "file_extension": ".py",
   "mimetype": "text/x-python",
   "name": "python",
   "nbconvert_exporter": "python",
   "pygments_lexer": "ipython3",
   "version": "3.6.4"
  }
 },
 "nbformat": 4,
 "nbformat_minor": 2
}
